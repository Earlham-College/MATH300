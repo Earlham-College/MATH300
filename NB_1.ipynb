{
 "cells": [
  {
   "cell_type": "markdown",
   "id": "405d51bc-a3e5-4749-bb23-95bd404ff9f2",
   "metadata": {},
   "source": [
    "<div id=\"header\"><p style=\"color:#3364ff; text-align:center; font-weight:bold; font-family:verdana; font-size:25px;\">Mathematical Statistics [MATH300]: Introduction</p></div>\n",
    "\n",
    "[licenseBDG]: https://img.shields.io/badge/License-CC-orange?style=plastic\n",
    "[license]: https://creativecommons.org/licenses/by-nc-sa/3.0/deed.en\n",
    "\n",
    "[mywebsiteBDG]:https://img.shields.io/badge/website-jaorduz.github.io-0abeeb?style=plastic\n",
    "[mywebsite]: https://jaorduz.github.io/\n",
    "\n",
    "[mygithubBDG-jaorduz]: https://img.shields.io/badge/jaorduz-repos-blue?logo=github&label=jaorduz&style=plastic\n",
    "[mygithub-jaorduz]: https://github.com/jaorduz/\n",
    "\n",
    "[mygithubBDG-jaorduc]: https://img.shields.io/badge/jaorduc-repos-blue?logo=github&label=jaorduc&style=plastic \n",
    "[mygithub-jaorduc]: https://github.com/jaorduc/\n",
    "\n",
    "[myXprofileBDG]: https://img.shields.io/static/v1?label=Follow&message=jaorduc&color=2ea44f&style=plastic&logo=X&logoColor=black\n",
    "[myXprofile]:https://twitter.com/jaorduc\n",
    "\n",
    "\n",
    "[![website - jaorduz.github.io][mywebsiteBDG]][mywebsite]\n",
    "[![Github][mygithubBDG-jaorduz]][mygithub-jaorduz]\n",
    "[![Github][mygithubBDG-jaorduc]][mygithub-jaorduc]\n",
    "[![Follow @jaorduc][myXprofileBDG]][myXprofile]\n",
    "[![CC License][licenseBDG]][license]\n",
    "\n",
    "---\n",
    "\n",
    "<p style=\"text-align:right; font-family:verdana;\"><a href=\"mywebsite\" style=\"color:#3364ff; text-decoration:none;\">@Javier Orduz</a></p>    "
   ]
  },
  {
   "cell_type": "markdown",
   "id": "95f21547-dfac-48a1-b072-6098962ee2c2",
   "metadata": {},
   "source": [
    "<div style=\"background-color:powderblue; padding:10px; border:1px inset; border-radius:20px; font-family:courier; line-height: 1.5em\">\n",
    "\n",
    "<font color='#3364ff' size=\"5px\">Statistics</font>\n",
    "\n",
    "<p>Statistics is the science of collecting, analyzing, interpreting, presenting, and organizing data. It involves using mathematical methods to describe and understand patterns within data. Key concepts include:</p>\n",
    "<ol>\n",
    "    <li>Descriptive Statistics: Summarizing and describing data using measures like mean ($\\overline{x}$), median, mode, standard deviation ($\\sigma_1$), and variance ($\\sigma_2$).</li>\n",
    "    <li>Inferential Statistics: Concluding a population based on a sample. This involves hypothesis testing, confidence intervals, and statistical significance.</li>\n",
    "    <li>Probability Theory: Quantifying uncertainty and randomness using concepts like probability distributions (e.g., normal, binomial, Poisson), random variables, and expected values.</li>\n",
    "    <li>Regression Analysis: Modeling relationships between variables, such as linear regression $(y=\\beta_0+\\beta_1  x+\\epsilon)$ and logistic regression.</li>\n",
    "    <li>Time Series Analysis: Analyzing data collected over time, identifying trends, seasonality, and cyclical patterns.</li>\n",
    "    <li>Machine Learning: Using statistical methods to train algorithms on data, enabling them to make predictions or decisions.</li>\n",
    "</ol>\n",
    "<p>Statistics is widely used in fields like science, engineering, economics, finance, social sciences, and healthcare.</p>\n",
    "</div>\n",
    "\n",
    "<!-- <a href=\"https://www.imdb.com/chart/toptv/\" text-decoration=\"none\" color=\"black\"><img src=\"https://raw.githubusercontent.com/TheMrityunjayPathak/Data-Science-with-Python/main/Web%20Scrapping/images/home.png\" border=\"2px solid black\"></a> -->"
   ]
  },
  {
   "cell_type": "markdown",
   "id": "5fbf9ea0-5923-4375-bada-03f8f9e01ee3",
   "metadata": {},
   "source": [
    "# Exercises\n",
    "\n",
    "1. Investigate about Python packages for Statistics.\n",
    "2. Implement two examples to calculate variance, median, mean, among others important concepts in Statistics.\n",
    "3. Find how to implement three distributions such as Normal, Standard Normal distribution, Poisson, Gamma, among others.\n",
    "4. Calculate the probability using the most common package in Python, and compare this values to Geogebra.\n",
    "5. Discuss advantages and disadvantages."
   ]
  },
  {
   "cell_type": "markdown",
   "id": "906473f3-b442-43a6-b4a5-d45e875a8c3f",
   "metadata": {},
   "source": [
    "# References\n",
    "[1] https://www.twilio.com/en-us/blog/basic-statistics-python-numpy-jupyter-notebook-html"
   ]
  }
 ],
 "metadata": {
  "kernelspec": {
   "display_name": "Python 3 (ipykernel)",
   "language": "python",
   "name": "python3"
  },
  "language_info": {
   "codemirror_mode": {
    "name": "ipython",
    "version": 3
   },
   "file_extension": ".py",
   "mimetype": "text/x-python",
   "name": "python",
   "nbconvert_exporter": "python",
   "pygments_lexer": "ipython3",
   "version": "3.11.8"
  }
 },
 "nbformat": 4,
 "nbformat_minor": 5
}
